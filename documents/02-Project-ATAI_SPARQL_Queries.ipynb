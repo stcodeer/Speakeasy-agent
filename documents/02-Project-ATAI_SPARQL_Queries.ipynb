{
 "cells": [
  {
   "cell_type": "markdown",
   "metadata": {},
   "source": [
    "# <center> Querying Wikidata with SPARQL</center>\n",
    "<font color=\"#5F6A6A\"> <center> Cristina Sarasua (University of Zurich) </center> </font>\n",
    "   \n",
    "   \n",
    "  <hr>"
   ]
  },
  {
   "cell_type": "markdown",
   "metadata": {},
   "source": [
    "## Introduction"
   ]
  },
  {
   "cell_type": "markdown",
   "metadata": {},
   "source": [
    "Wikidata's data can be accessed in many different ways. Depending on what exactly you would like to access (e.g., item descriptions, or page edit history) you may:\n",
    "* query the knowledge base live using the RDF-based query language SPARQL \n",
    "* download a data dump (i.e., containing a snapshot of the data at a certain point in time)\n",
    "* query the knowledge base and its edit history live via the Wikidata's instance of the Media Wiki API \n",
    "* retrieve concrete item descriptions as Linked Data executing an HTTP GET request\n",
    "\n",
    "In this hands-on we will focus on querying data items of the knowledge base using the <a href=\"https://www.w3.org/TR/sparql11-query/\">SPARQL query language</a> --- the language that is used to query <a href=\"https://www.w3.org/DesignIssues/LinkedData.html\">Linked Data</a> and <a href=\"https://cacm.acm.org/magazines/2016/9/206254-a-new-look-at-the-semantic-web/fulltext\">Semantic Web data</a> in general.          "
   ]
  },
  {
   "cell_type": "markdown",
   "metadata": {},
   "source": [
    "## Wikidata Documentation"
   ]
  },
  {
   "cell_type": "markdown",
   "metadata": {},
   "source": [
    "If you would like to look up further information about Wikidata, I would recommend you read the article at the Communications of the ACM journal, by Denny Vrandečić and Markus Krötzsch: \n",
    "<a href=\"https://cacm.acm.org/magazines/2014/10/178785-wikidata/fulltext\">Wikidata: a Free Collaborative, Knowledge Base</a>, and the following information: \n",
    "\n",
    "Wikidata's data (model and data access) \n",
    "\n",
    "* **Wikidata's Help Page** <br> \n",
    "https://www.wikidata.org/wiki/Help:Contents\n",
    "\n",
    "* **How to access data in Wikidata (general page)** <br>\n",
    "https://www.wikidata.org/wiki/Wikidata:Data_access\n",
    "\n",
    "Querying Wikidata with SPARQL\n",
    "\n",
    "* **Wikidata's SPARQL Query Service** <br>\n",
    "https://query.wikidata.org/\n",
    "\n",
    "* **Instructions about how to use the Query Service** <br> https://www.wikidata.org/wiki/Wikidata:SPARQL_query_service/A_gentle_introduction_to_the_Wikidata_Query_Service\n",
    "\n",
    "* **Example queries** <br>\n",
    "https://www.wikidata.org/wiki/Wikidata:SPARQL_query_service/queries/examples\n",
    "\n",
    "* **Problematic queries** <br>\n",
    "https://www.mediawiki.org/wiki/Wikidata_Query_Service/Problematic_queries\n",
    "\n",
    "* **Wikidata Namespaces** <br>\n",
    "https://www.wikidata.org/wiki/Help:Namespaces\n",
    "\n",
    "* **Showcase Queries by Lucas Werkmeister (WMDE) at Wikidata Zurich Training 2019 organized at the University of Zurich** <br>\n",
    "https://www.wikidata.org/wiki/Wikidata:Events/Wikidata_Zurich_Training2019/Showcase_queries\n",
    "\n",
    "Querying from Python\n",
    "\n",
    "* **Wikidata's API** <br>\n",
    "https://www.wikidata.org/w/api.php\n",
    "\n",
    "* **Gastrodon Library** <br>\n",
    "https://github.com/paulhoule/gastrodon\n",
    "\n",
    "There useful tools to work with SPARQL and RDF data in Python:\n",
    "\n",
    "* **RDFLib** <br>\n",
    "https://github.com/RDFLib/rdflib\n",
    "\n",
    "* **SPARQL Kernel for Jupyter** <br>\n",
    "https://pypi.org/project/sparqlkernel/\n",
    "\n",
    "When you try out queries, you often need to look up the names/IDs of items, properties, or maybe you need to look up the way qualifiers and references are stated. In that case, I highly recommend you to look at examples of item descriptions\n",
    "\n",
    "E.g. https://www.wikidata.org/wiki/Q72\n",
    "E.g. https://www.wikidata.org/wiki/Q11943 \n",
    "\n",
    "For a complete description of SPARQL constructs, please check the specification: <br>\n",
    "https://www.w3.org/TR/sparql11-query/\n",
    "\n",
    "**Tip!** If you would like to keep up-to-date and discover new very sophisticated SPARQL queries that you can execute, you should not miss the updatey by Wikidata-Facts in Twitter:\n",
    "https://twitter.com/WikidataFacts\n"
   ]
  },
  {
   "cell_type": "markdown",
   "metadata": {},
   "source": [
    "\n",
    "## SPARQL and Wikidata Query Service "
   ]
  },
  {
   "cell_type": "markdown",
   "metadata": {},
   "source": [
    "The query service is a Web service that accesses Wikidata's data and can be used by humans through its GUI and by sofware programs to execute data queries written in SPARQL. \n",
    " \n",
    " ###  https://query.wikidata.org "
   ]
  },
  {
   "cell_type": "markdown",
   "metadata": {},
   "source": [
    "### Exploring SPARQL features\n"
   ]
  },
  {
   "cell_type": "markdown",
   "metadata": {},
   "source": [
    "**Get items (ID and label) of a particular type** \n",
    "We can use **LIMIT** to restrict the number of results to be obtained (useful for testing/data exploration). "
   ]
  },
  {
   "cell_type": "markdown",
   "metadata": {},
   "source": [
    "```\n",
    "prefix wdt: <http://www.wikidata.org/prop/direct/> \n",
    "prefix wd: <http://www.wikidata.org/entity/> \n",
    "SELECT ?item ?label\n",
    "WHERE{\n",
    "  ?item wdt:P31 wd:Q55488 .\n",
    "  ?item wdt:P131 wd:Q72 .\n",
    "  ?item rdfs:label ?label .\n",
    "  FILTER(LANG(?label) = \"en\").\n",
    "}\n",
    "#LIMIT 2\n",
    "```"
   ]
  },
  {
   "cell_type": "markdown",
   "metadata": {},
   "source": [
    "<a href=\"https://w.wiki/48sK\"> Try it here </a>"
   ]
  },
  {
   "cell_type": "markdown",
   "metadata": {},
   "source": [
    "We can also use Wikidata's integrated service to retrieve labels."
   ]
  },
  {
   "cell_type": "markdown",
   "metadata": {},
   "source": [
    "```\n",
    "prefix wdt: <http://www.wikidata.org/prop/direct/> \n",
    "prefix wd: <http://www.wikidata.org/entity/> \n",
    "SELECT ?item ?itemLabel\n",
    "WHERE{\n",
    "  ?item wdt:P31 wd:Q55488 .\n",
    "  ?item wdt:P131 wd:Q72 .\n",
    "  SERVICE wikibase:label {\n",
    "\t\tbd:serviceParam wikibase:language \"en\" .\n",
    "\t}\n",
    "}\n",
    "#LIMIT 2\n",
    "```\n"
   ]
  },
  {
   "cell_type": "markdown",
   "metadata": {},
   "source": [
    "<a href=\"https://w.wiki/48tz\"> Try it here </a>"
   ]
  },
  {
   "cell_type": "markdown",
   "metadata": {},
   "source": [
    "**ORDER BY** Sort the results."
   ]
  },
  {
   "cell_type": "markdown",
   "metadata": {},
   "source": [
    "```\n",
    "SELECT ?item ?label\n",
    "WHERE{\n",
    "  ?item wdt:P31 wd:Q55488 .\n",
    "  ?item wdt:P131 wd:Q72 .\n",
    "  ?item rdfs:label ?label .\n",
    "  FILTER(LANG(?label) =\"en\").\n",
    "     \n",
    "}\n",
    "ORDER BY DESC (?label)\n",
    "```"
   ]
  },
  {
   "cell_type": "markdown",
   "metadata": {},
   "source": [
    "<a href=\"https://w.wiki/3Mhz\"> Try it here </a>"
   ]
  },
  {
   "cell_type": "markdown",
   "metadata": {},
   "source": [
    "There might be duplicates in the results. We can add **DISTINCT** \n",
    "\n",
    "```\n",
    "SELECT distinct ?item ?label\n",
    "\n",
    "```"
   ]
  },
  {
   "cell_type": "markdown",
   "metadata": {},
   "source": [
    "**Multiple FILTERs and regular expressions** We can add multiple filters and add regular expressions. For example, here, we would like to get only the railway stations whose name start with \"W\" (\"Zurich W\"). "
   ]
  },
  {
   "cell_type": "markdown",
   "metadata": {},
   "source": [
    "```\n",
    "SELECT ?item ?label\n",
    "WHERE{\n",
    "  ?item wdt:P31 wd:Q55488 .\n",
    "  ?item wdt:P131 wd:Q72 .\n",
    "  ?item rdfs:label ?label .\n",
    "  FILTER(LANG(?label) =\"en\").\n",
    "  FILTER(REGEX(?label,\"^Zurich W\"))   \n",
    "}\n",
    "```\n"
   ]
  },
  {
   "cell_type": "markdown",
   "metadata": {},
   "source": [
    "<a href=\"https://w.wiki/7Ngt\"> Try it here </a>"
   ]
  },
  {
   "cell_type": "markdown",
   "metadata": {},
   "source": [
    "**PROPERTY PATHS** If someone described a station using a more specific type of item than train (e.g. dead-end station), that station will not be included in the results. We can use property paths and ask for the items that have been defined as train stations or subclasses of train stations:"
   ]
  },
  {
   "cell_type": "markdown",
   "metadata": {},
   "source": [
    "```\n",
    "SELECT ?item ?itemLabel\n",
    "WHERE{\n",
    "  ?item wdt:P31/wdt:P279* wd:Q55488 .\n",
    "   ?item wdt:P131 wd:Q72 .\n",
    "  SERVICE wikibase:label {\n",
    "\t\tbd:serviceParam wikibase:language \"en\" .\n",
    "\t}\n",
    "}\n",
    "```"
   ]
  },
  {
   "cell_type": "markdown",
   "metadata": {},
   "source": [
    "<a href=\"https://w.wiki/48tf\"> Try it here </a>"
   ]
  },
  {
   "cell_type": "markdown",
   "metadata": {},
   "source": [
    "**BGPs: TRIPLES TREATED AS 'AND'** Sometimes we ask for some information (e.g., opening date) when not all items of that type have such information. So this query will be restrictive and will give us only 16/38 stations in the results (those that have that information): "
   ]
  },
  {
   "cell_type": "markdown",
   "metadata": {},
   "source": [
    "```\n",
    "SELECT ?item ?itemLabel ?openingDate\n",
    "WHERE{\n",
    "  ?item wdt:P31/wdt:P279* wd:Q55488 .\n",
    "   ?item wdt:P131 wd:Q72 .\n",
    "  ?item wdt:P1619 ?openingDate .\n",
    " \n",
    "  SERVICE wikibase:label {\n",
    "\t\tbd:serviceParam wikibase:language \"en\" .\n",
    "\t}\n",
    "}\n",
    "\n",
    "```"
   ]
  },
  {
   "cell_type": "markdown",
   "metadata": {},
   "source": [
    "<a href=\"https://w.wiki/48th\">  Try it here </a>"
   ]
  },
  {
   "cell_type": "markdown",
   "metadata": {},
   "source": [
    "**OPTIONAL** We can \"relax\" the condition and ask for the stations, and get the opening date (in case they have it). We will still get the other information in the cases where the station does not have the opening date. "
   ]
  },
  {
   "cell_type": "markdown",
   "metadata": {},
   "source": [
    "```\n",
    "SELECT ?item ?itemLabel ?openingDate\n",
    "WHERE{\n",
    "  ?item wdt:P31/wdt:P279* wd:Q55488 .\n",
    "   ?item wdt:P131 wd:Q72 .\n",
    "  OPTIONAL{?item wdt:P1619 ?openingDate .}\n",
    " \n",
    "  SERVICE wikibase:label {\n",
    "\t\tbd:serviceParam wikibase:language \"en\" .\n",
    "\t}\n",
    "}\n",
    "```"
   ]
  },
  {
   "cell_type": "markdown",
   "metadata": {},
   "source": [
    "<a href=\"https://w.wiki/48ti\">  Try it here </a>"
   ]
  },
  {
   "cell_type": "markdown",
   "metadata": {},
   "source": [
    "**NOT EXISTS** We can also look for items that are missing a piece of information in their description."
   ]
  },
  {
   "cell_type": "markdown",
   "metadata": {},
   "source": [
    "```\n",
    "SELECT ?item ?itemLabel ?openingDate \n",
    "WHERE{\n",
    "  ?item wdt:P31/wdt:P279* wd:Q55488 .\n",
    "   ?item wdt:P131 wd:Q72 .\n",
    "  FILTER NOT EXISTS{?item wdt:P1619 ?openingDate .}\n",
    "\n",
    "  SERVICE wikibase:label {\n",
    "        bd:serviceParam wikibase:language \"en\" .\n",
    "    }\n",
    "}\n",
    "\n",
    "```\n"
   ]
  },
  {
   "cell_type": "markdown",
   "metadata": {},
   "source": [
    "<a href=\"https://w.wiki/48tj\">  Try it here </a>"
   ]
  },
  {
   "cell_type": "markdown",
   "metadata": {},
   "source": [
    "**UNION** If we would like to retrieve the museums and church buildings, we can use UNION."
   ]
  },
  {
   "cell_type": "markdown",
   "metadata": {},
   "source": [
    "```\n",
    "select ?item ?itemLabel ?openingDate\n",
    "where{\n",
    "  {?item wdt:P31/wdt:P279* wd:Q33506 .} UNION {?item wdt:P31/wdt:P279* wd:Q16970.} \n",
    "\n",
    "   ?item wdt:P131 wd:Q72 .\n",
    "  OPTIONAL{?item wdt:P1619 ?openingDate .}\n",
    "\n",
    "  SERVICE wikibase:label {\n",
    "        bd:serviceParam wikibase:language \"en\" .\n",
    "    }\n",
    "}\n",
    "\n",
    "\n",
    "```"
   ]
  },
  {
   "cell_type": "markdown",
   "metadata": {},
   "source": [
    "<a href=\"https://w.wiki/48r$\">  Try it here </a>\n"
   ]
  },
  {
   "cell_type": "markdown",
   "metadata": {},
   "source": [
    "**AGGREGATIONS AND GROUP BY** We can compute functions over groups of results (e.g., COUNT to count the number of results, SUM/MIN/MAX/AVG to compute a function over the numeric values in the results) "
   ]
  },
  {
   "cell_type": "markdown",
   "metadata": {},
   "source": [
    "```\n",
    "SELECT (COUNT(?item) AS ?countNumberOfItems)\n",
    "WHERE{\n",
    "  ?item wdt:P31 wd:Q55488 .\n",
    "  ?item wdt:P131 wd:Q72 .\n",
    "  \n",
    "}\n",
    "\n",
    "```"
   ]
  },
  {
   "cell_type": "markdown",
   "metadata": {},
   "source": [
    "<a href=\"https://w.wiki/3MiG\"> Try it here </a>"
   ]
  },
  {
   "cell_type": "markdown",
   "metadata": {},
   "source": [
    "\n",
    "```\n",
    "SELECT ?city (COUNT(?item) AS ?count) \n",
    "WHERE{\n",
    "  ?item wdt:P31 wd:Q55488 .\n",
    "  ?item wdt:P131 ?city .\n",
    "  ?city wdt:P31 wd:Q54935504 .\n",
    "\n",
    "    SERVICE wikibase:label {\n",
    "\t\tbd:serviceParam wikibase:language \"en\" .\n",
    "\t}\n",
    "     }\n",
    "GROUP BY ?city\n",
    "```"
   ]
  },
  {
   "cell_type": "markdown",
   "metadata": {},
   "source": [
    "<a href=\"https://w.wiki/5jFh\"> Try it here </a>"
   ]
  },
  {
   "cell_type": "markdown",
   "metadata": {},
   "source": [
    "**FEDERATED QUERIES** We can select data from other graphs at the same time. "
   ]
  },
  {
   "cell_type": "markdown",
   "metadata": {},
   "source": [
    "```\n",
    "SELECT DISTINCT ?item ?seaL ?location ?maxEl WHERE { \n",
    "  ?item wdt:P31 wd:Q70208 .\n",
    "  ?item wdt:P1549 ?demonymW .\n",
    "  ?item wdt:P2044 ?seaL .\n",
    " \n",
    "\n",
    "        \n",
    "  SERVICE <http://dbpedia.org/sparql> {\n",
    "     ?location <http://www.w3.org/2002/07/owl#sameAs> ?item .\n",
    "    ?location <http://dbpedia.org/ontology/demonym> ?demonymD .\n",
    "    ?location <http://dbpedia.org/ontology/maximumElevation> ?maxEl\n",
    "   \n",
    "    \n",
    " \n",
    "  }\n",
    "  \n",
    "} LIMIT 100\n",
    "```"
   ]
  },
  {
   "cell_type": "markdown",
   "metadata": {},
   "source": [
    "<a href=\"https://w.wiki/48vB\">  Try it here </a>"
   ]
  },
  {
   "cell_type": "markdown",
   "metadata": {},
   "source": [
    "Other examples: https://www.wikidata.org/wiki/Wikidata:SPARQL_query_service/Federated_queries "
   ]
  },
  {
   "cell_type": "markdown",
   "metadata": {},
   "source": [
    "**HAVING** It works similarly to FILTER, but for sets of grouped solutions."
   ]
  },
  {
   "cell_type": "markdown",
   "metadata": {},
   "source": [
    "```\n",
    "SELECT ?city (COUNT(?item) AS ?count) \n",
    "WHERE{\n",
    "  ?item wdt:P31 wd:Q55488 .\n",
    "  ?item wdt:P131 ?city .\n",
    "  ?city wdt:P31 wd:Q54935504 .\n",
    "\n",
    "    SERVICE wikibase:label {\n",
    "        bd:serviceParam wikibase:language \"en\" .\n",
    "    }\n",
    "     }\n",
    "GROUP BY ?city\n",
    "HAVING(COUNT(?item) > 5)\n",
    "```"
   ]
  },
  {
   "cell_type": "markdown",
   "metadata": {},
   "source": [
    "<a href=\"https://w.wiki/5jFk\">  Try it here </a>"
   ]
  },
  {
   "cell_type": "markdown",
   "metadata": {},
   "source": [
    "**MINUS** Removing certain cases from the solution. We would like to remove Bern."
   ]
  },
  {
   "cell_type": "markdown",
   "metadata": {},
   "source": [
    "```\n",
    "SELECT ?city ?cityLabel (COUNT(?item) AS ?count) \n",
    "WHERE{\n",
    "  ?item wdt:P31 wd:Q55488 .\n",
    "  ?item wdt:P131 ?city .\n",
    "  ?city wdt:P31 wd:Q54935504 .\n",
    "  \n",
    "  MINUS {?item rdfs:Label \"Bern\"}\n",
    "\n",
    "    SERVICE wikibase:label {\n",
    "        bd:serviceParam wikibase:language \"en\" .\n",
    "    }\n",
    "     }\n",
    "GROUP BY ?city ?cityLabel\n",
    "\n",
    "```"
   ]
  },
  {
   "cell_type": "markdown",
   "metadata": {},
   "source": [
    "<a href=\"https://w.wiki/5jFn\">  Try it here </a>"
   ]
  },
  {
   "cell_type": "markdown",
   "metadata": {},
   "source": [
    "**BIND** Assign values to variables within the query. We can obtain the list of cities that were founded more than ten years ago. "
   ]
  },
  {
   "cell_type": "markdown",
   "metadata": {},
   "source": [
    "```\n",
    "\n",
    "SELECT ?city ?cityLabel ?diffInception\n",
    "WHERE{\n",
    "  ?city wdt:P31 wd:Q54935504 .\n",
    "  ?city wdt:P571 ?inception .\n",
    "\n",
    "  BIND(2024-YEAR(?inception) AS ?diffInception)\n",
    "  FILTER (?diffInception>10)\n",
    "  \n",
    "  \n",
    "    SERVICE wikibase:label {\n",
    "        bd:serviceParam wikibase:language \"en\" .\n",
    "    }\n",
    "     }\n",
    "\n",
    "#There are many other functions on RDF Terms, numerical values, and strings. \n",
    "See also: https://www.w3.org/TR/sparql11-query/\n",
    "```\n"
   ]
  },
  {
   "cell_type": "markdown",
   "metadata": {},
   "source": [
    "<a href=\"https://w.wiki/BGu5\">  Try it here </a>"
   ]
  },
  {
   "cell_type": "markdown",
   "metadata": {},
   "source": [
    "**SUBQUERIES** Queries embedded into queries. Obtain the Swiss cities whose population is higher than the average population.  "
   ]
  },
  {
   "cell_type": "markdown",
   "metadata": {},
   "source": [
    "```\n",
    "SELECT ?city ?cityLabel ?population ?avgP\n",
    "WHERE{\n",
    "\n",
    "  ?city wdt:P31 wd:Q54935504 .\n",
    "  ?city wdt:P1082 ?population.\n",
    "   \n",
    "  {\n",
    "   SELECT (AVG(?populationI) as ?avgP) \n",
    "   WHERE{\n",
    "      ?city wdt:P31 wd:Q54935504 .\n",
    "      ?city wdt:P1082 ?populationI .\n",
    "   }\n",
    "  }\n",
    "  \n",
    "  FILTER(?population > ?avgP)\n",
    "\n",
    "    SERVICE wikibase:label {\n",
    "        bd:serviceParam wikibase:language \"en\" .\n",
    "    }\n",
    "}\n",
    "\n",
    "```"
   ]
  },
  {
   "cell_type": "markdown",
   "metadata": {},
   "source": [
    "<a href=\"https://w.wiki/5jJN\">  Try it here </a>"
   ]
  },
  {
   "cell_type": "markdown",
   "metadata": {},
   "source": [
    "**OTHER TYPES OF QUERIES** Besides SELECT queries, in SPARQL we can execute DESCRIBE, ASK and CONSTRUCT queries. DESCRIBE queries obtain all the statements about an IRI (e.g., all the statements whose subject is a concrete Wikidata item)."
   ]
  },
  {
   "cell_type": "markdown",
   "metadata": {},
   "source": [
    "```\n",
    "describe wd:Q72\n",
    "\n",
    "```"
   ]
  },
  {
   "cell_type": "markdown",
   "metadata": {},
   "source": [
    "<a href=\"https://w.wiki/3Mib\"> Try it here. </a>"
   ]
  },
  {
   "cell_type": "markdown",
   "metadata": {},
   "source": [
    "### Exploring features of the Wikidata Query Service"
   ]
  },
  {
   "cell_type": "markdown",
   "metadata": {},
   "source": [
    "#### > Get Wikipedia and Wikimedia Commons URLs\n",
    "**Example**: retrieve the id, label of things located in neighbourhoods of Zurich, with their Wikipedia article and Wikimedia commons URL"
   ]
  },
  {
   "cell_type": "markdown",
   "metadata": {},
   "source": [
    "```\n",
    "SELECT ?quartier ?item ?itemLabel ?article ?image ?prop\n",
    "{?item wdt:P131 ?quartier .\n",
    " ?quartier wdt:P31 wd:Q19644586 .\n",
    "  OPTIONAL {?article schema:about ?item .\n",
    "    ?article schema:isPartOf <https://en.wikipedia.org/>.\n",
    " ?item wdt:P18 ?image}\n",
    "\n",
    " SERVICE wikibase:label { bd:serviceParam wikibase:language \"en\". }\n",
    "}\n",
    "```"
   ]
  },
  {
   "cell_type": "markdown",
   "metadata": {},
   "source": [
    "<a href=\"https://w.wiki/48to\">  Try it here </a>"
   ]
  },
  {
   "cell_type": "markdown",
   "metadata": {},
   "source": [
    "#### > Queries using / retrieving qualifiers and references --- two valuable features in Wikidata\n",
    "**Example**: query to the population of the neighbourhoods of Zurich at a particular point in time, and the source of the information."
   ]
  },
  {
   "cell_type": "markdown",
   "metadata": {},
   "source": [
    "```\n",
    "PREFIX pr: <http://www.wikidata.org/prop/reference/>\n",
    "PREFIX prov: <http://www.w3.org/ns/prov#>\n",
    "\n",
    "SELECT ?itemLabel ?itemDescription ?item ?population ?time ?ref WHERE {\n",
    "  ?item wdt:P625 ?coord.\n",
    "  ?item wdt:P31 wd:Q19644586.\n",
    "  ?item wdt:P131 wd:Q72.\n",
    "  OPTIONAL {\n",
    "    ?item p:P1082 ?statement.\n",
    "    ?statement prov:wasDerivedFrom ?source.\n",
    "    ?source pr:P854 ?ref.\n",
    "    ?statement ps:P1082 ?population.\n",
    "    ?statement pq:P585 ?time.\n",
    "  }\n",
    "  SERVICE wikibase:label { bd:serviceParam wikibase:language \"en\". }\n",
    "}\n",
    "```"
   ]
  },
  {
   "cell_type": "markdown",
   "metadata": {},
   "source": [
    "<a href=\"https://w.wiki/48tq\">  Try it here </a> "
   ]
  },
  {
   "cell_type": "markdown",
   "metadata": {},
   "source": [
    "#### > We can also look for items with statements referencing specific sources"
   ]
  },
  {
   "cell_type": "markdown",
   "metadata": {},
   "source": [
    "```\n",
    "SELECT *\n",
    "WHERE\n",
    "{\n",
    "  ?ch wdt:P31 wd:Q54935504 .\n",
    "  OPTIONAL {?ch wdt:P17 wd:Q39.}\n",
    "  ?ch ?prop ?statement .\n",
    "  ?statement prov:wasDerivedFrom ?refnode.\n",
    "  ?refnode   pr:P854 ?ref.  #pr:P248 #pr:P854\n",
    "  FILTER (CONTAINS(str(?ref),'statistik.zh.ch')) #statistik.zh.ch\n",
    "\n",
    "}\n",
    "```\n"
   ]
  },
  {
   "cell_type": "markdown",
   "metadata": {},
   "source": [
    "<a href=\"https://w.wiki/3Mj3\"> Try it here </a>"
   ]
  },
  {
   "cell_type": "markdown",
   "metadata": {},
   "source": [
    "#### > Display query results in a map\n",
    "**Example**: query to show the mountains of Switzerland in a map, by height (meters above the sea level)."
   ]
  },
  {
   "cell_type": "markdown",
   "metadata": {},
   "source": [
    "```\n",
    "#defaultView:Map\n",
    "SELECT ?item ?itemLabel ?coord ?height ?layer ?image \n",
    "WHERE { ?item wdt:P31 wd:Q8502. ?item wdt:P625 ?coord. \n",
    "       ?item wdt:P17 wd:Q39.  ?item wdt:P2044 ?height . \n",
    "       BIND( IF(?height < 1000, \"<1000 metres\", \n",
    "                IF(?height < 2000, \"1000 - 2000 metres\", \n",
    "                   IF(?height < 3000, \"2000 - 3000 metres\", \n",
    "                      IF(?height < 4000, \"3000 - 4000 metres\", \"> 4000 metres\")))) AS ?layer). \n",
    "       OPTIONAL {?item wdt:P18 ?image.} \n",
    "                                                            \n",
    "       SERVICE wikibase:label { bd:serviceParam wikibase:language \"[AUTO_LANGUAGE],en\". }\n",
    "}\n",
    "````\n",
    "\n",
    "<a href=\"https://query.wikidata.org/#%23defaultView%3AMap%0ASELECT%20%3Fitem%20%3FitemLabel%20%3Fcoord%20%3Fheight%20%3Flayer%20%3Fimage%20%0AWHERE%20%7B%20%3Fitem%20wdt%3AP31%20wd%3AQ8502.%20%3Fitem%20wdt%3AP625%20%3Fcoord.%20%0A%20%20%20%20%20%20%20%3Fitem%20wdt%3AP17%20wd%3AQ39.%20%20%3Fitem%20wdt%3AP2044%20%3Fheight%20.%20%0A%20%20%20%20%20%20%20BIND%28%20IF%28%3Fheight%20%3C%201000%2C%20%22%3C1000%20metres%22%2C%20%0A%20%20%20%20%20%20%20%20%20%20%20%20%20%20%20%20IF%28%3Fheight%20%3C%202000%2C%20%221000%20-%202000%20metres%22%2C%20%0A%20%20%20%20%20%20%20%20%20%20%20%20%20%20%20%20%20%20%20IF%28%3Fheight%20%3C%203000%2C%20%222000%20-%203000%20metres%22%2C%20%0A%20%20%20%20%20%20%20%20%20%20%20%20%20%20%20%20%20%20%20%20%20%20IF%28%3Fheight%20%3C%204000%2C%20%223000%20-%204000%20metres%22%2C%20%22%3E%204000%20metres%22%29%29%29%29%20AS%20%3Flayer%29.%20%0A%20%20%20%20%20%20%20OPTIONAL%20%7B%3Fitem%20wdt%3AP18%20%3Fimage.%7D%20%0A%0A%20%20%20%20%20%20%20SERVICE%20wikibase%3Alabel%20%7B%20bd%3AserviceParam%20wikibase%3Alanguage%20%22%5BAUTO_LANGUAGE%5D%2Cen%22.%20%7D%0A%7D\">  Try it here </a>"
   ]
  },
  {
   "cell_type": "markdown",
   "metadata": {},
   "source": [
    "#### > Retrieve _things_ around / in the surrounding area\n",
    "**Example**: query to retrieve max. 100 libraries around the UZH Zentrum building, with a radius of 2km."
   ]
  },
  {
   "cell_type": "markdown",
   "metadata": {},
   "source": [
    "```\n",
    "#defaultView:Map\n",
    "SELECT ?thing ?location ?distance ?thingLabel WHERE {\n",
    "  \n",
    "    SERVICE wikibase:around { \n",
    "      ?thing wdt:P625 ?location . \n",
    "      bd:serviceParam wikibase:center \"Point(8.548333 47.374722)\"^^geo:wktLiteral .\n",
    "      bd:serviceParam wikibase:radius \"2\" . \n",
    "      bd:serviceParam wikibase:distance ?distance .\n",
    "    } \n",
    "    ?thing wdt:P31/wdt:P279* wd:Q7075\n",
    "   \n",
    "  SERVICE wikibase:label { bd:serviceParam wikibase:language \"en\". }\n",
    "} ORDER BY ?distance LIMIT 100\n",
    "````\n",
    "\n",
    "<a href=\"https://w.wiki/48ts\">  Try it here </a>"
   ]
  },
  {
   "cell_type": "markdown",
   "metadata": {},
   "source": [
    "**Example**: query to retrieve max. 100 fountains that we know have been added from a specific catalogue, the one maintained by the City of Zurich drinking water supply (https://www.wikidata.org/wiki/Q53629101)"
   ]
  },
  {
   "cell_type": "markdown",
   "metadata": {},
   "source": [
    "```\n",
    "#defaultView:Map\n",
    "SELECT ?thing ?location ?distance ?thingLabel WHERE {\n",
    "  \n",
    "    SERVICE wikibase:around { \n",
    "      ?thing wdt:P625 ?location . \n",
    "      bd:serviceParam wikibase:center \"Point(8.548333 47.374722)\"^^geo:wktLiteral .\n",
    "      bd:serviceParam wikibase:radius \"2\" . \n",
    "      bd:serviceParam wikibase:distance ?distance .\n",
    "    } \n",
    "    ?thing p:P528 ?statement . ?statement pq:P972 wd:Q53629101 .\n",
    "   \n",
    "  SERVICE wikibase:label { bd:serviceParam wikibase:language \"[AUTO_LANGUAGE],en\". }\n",
    "} ORDER BY ?distance LIMIT 100\n",
    "```\n",
    "<a href=\"https://w.wiki/48tu\">  Try it here </a>"
   ]
  },
  {
   "cell_type": "markdown",
   "metadata": {},
   "source": [
    "#### > Display query results in a bubble-chart"
   ]
  },
  {
   "cell_type": "markdown",
   "metadata": {},
   "source": [
    "**Example**: query to plot in a bubble chart the number of floods per country in Europe since 1980."
   ]
  },
  {
   "cell_type": "markdown",
   "metadata": {},
   "source": [
    "```\n",
    "#defaultView:BubbleChart\n",
    "SELECT ?country ?countryLabel (count(distinct ?item) as ?count) \n",
    "WHERE\n",
    "{\n",
    "  ?item wdt:P31/wdt:P279* wd:Q8068 .#wd:Q8065 .\n",
    "  ?item wdt:P17 ?country .\n",
    "  ?country wdt:P30 wd:Q46 .\n",
    "  ?item wdt:P580 ?starttime .\n",
    "  FILTER(?starttime >= \"1980-00-00T00:00:00Z\"^^xsd:dateTime)\n",
    "  SERVICE wikibase:label { bd:serviceParam wikibase:language \"en\" }\n",
    "}\n",
    "GROUP BY ?country ?countryLabel\n",
    "```\n",
    "<a href=\"https://w.wiki/48tw\">  Try it here </a>"
   ]
  },
  {
   "cell_type": "code",
   "execution_count": null,
   "metadata": {},
   "outputs": [],
   "source": []
  },
  {
   "cell_type": "markdown",
   "metadata": {},
   "source": [
    "## Exercises"
   ]
  },
  {
   "cell_type": "markdown",
   "metadata": {},
   "source": [
    "Please write a SPARQL query for each of the following query requests: "
   ]
  },
  {
   "cell_type": "markdown",
   "metadata": {},
   "source": [
    "**QR1:** We would like to obtain a list of max 10 movies in Wikidata that are of genre either 'drama film' or 'horror film', sorted by publication date. We would like to obtain the ID, the title, and the picture of the movies (if present).\n",
    "\n",
    "title - property ID P1476 <br/>\n",
    "image - property ID P18 <br/>\n",
    "genre - property ID P136 <br/>\n",
    "drama film - item ID Q130232 <br/>\n",
    "horror film - item ID Q200092 <br/>\n",
    "publication date - property ID P577 <br/>\n"
   ]
  },
  {
   "cell_type": "markdown",
   "metadata": {},
   "source": [
    "**QR2:** We would like to obtain the number of US movies that Wikidata has per movie genre. \n",
    "\n",
    "film - item ID Q11424 <br/>\n",
    "US- item ID Q30 <br/>\n",
    "genre - property ID P136 <br/>\n",
    "country of origin - property ID P495 <br/>"
   ]
  },
  {
   "cell_type": "code",
   "execution_count": null,
   "metadata": {},
   "outputs": [],
   "source": []
  },
  {
   "cell_type": "markdown",
   "metadata": {},
   "source": [
    "\n",
    "   <font color=\"#5F6A6A\"> <center> CC-BY-SA </center> </font> \n"
   ]
  }
 ],
 "metadata": {
  "kernelspec": {
   "display_name": "Python 3 (ipykernel)",
   "language": "python",
   "name": "python3"
  },
  "language_info": {
   "codemirror_mode": {
    "name": "ipython",
    "version": 3
   },
   "file_extension": ".py",
   "mimetype": "text/x-python",
   "name": "python",
   "nbconvert_exporter": "python",
   "pygments_lexer": "ipython3",
   "version": "3.9.2"
  }
 },
 "nbformat": 4,
 "nbformat_minor": 4
}
